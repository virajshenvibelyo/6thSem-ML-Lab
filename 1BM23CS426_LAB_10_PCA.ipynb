{
  "nbformat": 4,
  "nbformat_minor": 0,
  "metadata": {
    "colab": {
      "provenance": []
    },
    "kernelspec": {
      "name": "python3",
      "display_name": "Python 3"
    },
    "language_info": {
      "name": "python"
    }
  },
  "cells": [
    {
      "cell_type": "code",
      "execution_count": 1,
      "metadata": {
        "colab": {
          "base_uri": "https://localhost:8080/"
        },
        "id": "bdV59V0XSFbh",
        "outputId": "b334ee53-4667-4c61-97e7-5f785f6e2f27"
      },
      "outputs": [
        {
          "output_type": "stream",
          "name": "stdout",
          "text": [
            "=== Accuracy without PCA ===\n",
            "SVM: 0.8804\n",
            "Logistic Regression: 0.8533\n",
            "Random Forest: 0.8804\n",
            "\n",
            "=== Accuracy with PCA ===\n",
            "SVM: 0.8804\n",
            "Logistic Regression: 0.8533\n",
            "Random Forest: 0.8424\n"
          ]
        }
      ],
      "source": [
        "import pandas as pd\n",
        "import numpy as np\n",
        "from sklearn.model_selection import train_test_split\n",
        "from sklearn.preprocessing import LabelEncoder, OneHotEncoder, StandardScaler\n",
        "from sklearn.compose import ColumnTransformer\n",
        "from sklearn.pipeline import Pipeline\n",
        "from sklearn.svm import SVC\n",
        "from sklearn.linear_model import LogisticRegression\n",
        "from sklearn.ensemble import RandomForestClassifier\n",
        "from sklearn.metrics import accuracy_score\n",
        "from sklearn.decomposition import PCA\n",
        "\n",
        "# Load the dataset\n",
        "df = pd.read_csv(\"heart (1).csv\")\n",
        "\n",
        "# Step 1: Identify categorical columns\n",
        "categorical_cols = df.select_dtypes(include=['object']).columns.tolist()\n",
        "\n",
        "# Step 2: Label Encoding + One-Hot Encoding\n",
        "# Label encode binary columns, one-hot encode multi-class categorical\n",
        "df_encoded = df.copy()\n",
        "label_encoders = {}\n",
        "for col in categorical_cols:\n",
        "    if df_encoded[col].nunique() == 2:\n",
        "        le = LabelEncoder()\n",
        "        df_encoded[col] = le.fit_transform(df_encoded[col])\n",
        "        label_encoders[col] = le\n",
        "    else:\n",
        "        df_encoded = pd.get_dummies(df_encoded, columns=[col])\n",
        "\n",
        "# Step 3: Feature/target split\n",
        "X = df_encoded.drop(columns=['HeartDisease'])  # Assuming 'target' is the column to predict\n",
        "y = df_encoded['HeartDisease']\n",
        "\n",
        "# Step 4: Scaling\n",
        "scaler = StandardScaler()\n",
        "X_scaled = scaler.fit_transform(X)\n",
        "\n",
        "# Step 5: Train-test split\n",
        "X_train, X_test, y_train, y_test = train_test_split(X_scaled, y, test_size=0.2, random_state=42)\n",
        "\n",
        "# Step 6: Train classifiers and evaluate accuracy\n",
        "models = {\n",
        "    \"SVM\": SVC(),\n",
        "    \"Logistic Regression\": LogisticRegression(max_iter=1000),\n",
        "    \"Random Forest\": RandomForestClassifier(random_state=42)\n",
        "}\n",
        "\n",
        "print(\"=== Accuracy without PCA ===\")\n",
        "for name, model in models.items():\n",
        "    model.fit(X_train, y_train)\n",
        "    y_pred = model.predict(X_test)\n",
        "    acc = accuracy_score(y_test, y_pred)\n",
        "    print(f\"{name}: {acc:.4f}\")\n",
        "\n",
        "# Step 7: Apply PCA\n",
        "pca = PCA(n_components=0.95)  # Keep 95% variance\n",
        "X_pca = pca.fit_transform(X_scaled)\n",
        "\n",
        "# Train-test split for PCA-reduced data\n",
        "X_train_pca, X_test_pca, y_train, y_test = train_test_split(X_pca, y, test_size=0.2, random_state=42)\n",
        "\n",
        "print(\"\\n=== Accuracy with PCA ===\")\n",
        "for name, model in models.items():\n",
        "    model.fit(X_train_pca, y_train)\n",
        "    y_pred_pca = model.predict(X_test_pca)\n",
        "    acc_pca = accuracy_score(y_test, y_pred_pca)\n",
        "    print(f\"{name}: {acc_pca:.4f}\")\n"
      ]
    }
  ]
}